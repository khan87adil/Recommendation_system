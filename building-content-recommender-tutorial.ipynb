{
 "cells": [
  {
   "cell_type": "markdown",
   "metadata": {
    "_cell_guid": "b1076dfc-b9ad-4769-8c92-a6c4dae69d19",
    "_uuid": "8f2839f25d086af736a60e9eeb907d3b93b6e0e5"
   },
   "source": [
    "<h1><center> How to use content to come up with relevant Recommendations</center></h1>\n",
    "<h2><center>How to use text mining to decide which ted talk to watch</center></h2>\n",
    "\n",
    "Well, I love ted talks, who doesn't? When I first looked at this dataset, a couple of things struck, me, first, the fact that, since this dataset contains transcripts of many ted talks, by default we have a corpus which is very rich and linguistically very well structured. Second, since this corpus has nice linguistic properties, this is probably as good a dataset as Reuters 20 News Group or any version of Guttenberg corpus. This got me thinking:\n",
    "<img src=\"https://github.com/Gunnvant/ted_talks/blob/master/thinking.gif?raw=true\">\n",
    "\n",
    "***I have the data on all the transcripts across many ted talks, can I try to come up with a way to recommend ted talks based on their similarity, just as is done by official Ted page?***\n",
    "\n",
    "Ofcourse, the recommendation engines used by the official ted page, will be a degrees of magnitude more sophisticated than what I can demonstrate here and would also involve use of some sort of historical user-item interaction data.\n",
    "\n",
    "The idea is to demonstrate here how one can generate recommendations just using content. This becomes essentially important when you don't have any user-item interaction data, essentially when you are starting out new and still want to provide the consumers of your content relevant contextual recommendations.\n",
    "\n",
    "<h2><center>Meet the data</center></h2>\n",
    "The data we will use comes in as a tabular flat file, the transcript for each talk is stored in a row across a column named transcript. Here is how the file looks like"
   ]
  },
  {
   "cell_type": "code",
   "execution_count": 1,
   "metadata": {
    "_cell_guid": "79c7e3d0-c299-4dcb-8224-4455121ee9b0",
    "_uuid": "d629ff2d2480ee46fbb7e2d37f6b5fab8052498a",
    "jupyter": {
     "outputs_hidden": true
    }
   },
   "outputs": [
    {
     "data": {
      "text/html": [
       "<div>\n",
       "<style scoped>\n",
       "    .dataframe tbody tr th:only-of-type {\n",
       "        vertical-align: middle;\n",
       "    }\n",
       "\n",
       "    .dataframe tbody tr th {\n",
       "        vertical-align: top;\n",
       "    }\n",
       "\n",
       "    .dataframe thead th {\n",
       "        text-align: right;\n",
       "    }\n",
       "</style>\n",
       "<table border=\"1\" class=\"dataframe\">\n",
       "  <thead>\n",
       "    <tr style=\"text-align: right;\">\n",
       "      <th></th>\n",
       "      <th>transcript</th>\n",
       "      <th>url</th>\n",
       "    </tr>\n",
       "  </thead>\n",
       "  <tbody>\n",
       "    <tr>\n",
       "      <th>0</th>\n",
       "      <td>Good morning. How are you?(Laughter)It's been ...</td>\n",
       "      <td>https://www.ted.com/talks/ken_robinson_says_sc...</td>\n",
       "    </tr>\n",
       "    <tr>\n",
       "      <th>1</th>\n",
       "      <td>Thank you so much, Chris. And it's truly a gre...</td>\n",
       "      <td>https://www.ted.com/talks/al_gore_on_averting_...</td>\n",
       "    </tr>\n",
       "    <tr>\n",
       "      <th>2</th>\n",
       "      <td>(Music: \"The Sound of Silence,\" Simon &amp; Garfun...</td>\n",
       "      <td>https://www.ted.com/talks/david_pogue_says_sim...</td>\n",
       "    </tr>\n",
       "    <tr>\n",
       "      <th>3</th>\n",
       "      <td>If you're here today — and I'm very happy that...</td>\n",
       "      <td>https://www.ted.com/talks/majora_carter_s_tale...</td>\n",
       "    </tr>\n",
       "    <tr>\n",
       "      <th>4</th>\n",
       "      <td>About 10 years ago, I took on the task to teac...</td>\n",
       "      <td>https://www.ted.com/talks/hans_rosling_shows_t...</td>\n",
       "    </tr>\n",
       "  </tbody>\n",
       "</table>\n",
       "</div>"
      ],
      "text/plain": [
       "                                          transcript  \\\n",
       "0  Good morning. How are you?(Laughter)It's been ...   \n",
       "1  Thank you so much, Chris. And it's truly a gre...   \n",
       "2  (Music: \"The Sound of Silence,\" Simon & Garfun...   \n",
       "3  If you're here today — and I'm very happy that...   \n",
       "4  About 10 years ago, I took on the task to teac...   \n",
       "\n",
       "                                                 url  \n",
       "0  https://www.ted.com/talks/ken_robinson_says_sc...  \n",
       "1  https://www.ted.com/talks/al_gore_on_averting_...  \n",
       "2  https://www.ted.com/talks/david_pogue_says_sim...  \n",
       "3  https://www.ted.com/talks/majora_carter_s_tale...  \n",
       "4  https://www.ted.com/talks/hans_rosling_shows_t...  "
      ]
     },
     "execution_count": 1,
     "metadata": {},
     "output_type": "execute_result"
    }
   ],
   "source": [
    "import pandas as pd\n",
    "import numpy as np\n",
    "from sklearn.feature_extraction import text\n",
    "transcripts=pd.read_csv(\"transcripts.csv\")\n",
    "transcripts.head()"
   ]
  },
  {
   "cell_type": "code",
   "execution_count": 2,
   "metadata": {},
   "outputs": [
    {
     "data": {
      "text/plain": [
       "'https://www.ted.com/talks/ken_robinson_says_schools_kill_creativity\\n'"
      ]
     },
     "execution_count": 2,
     "metadata": {},
     "output_type": "execute_result"
    }
   ],
   "source": [
    "transcripts[\"url\"][0]"
   ]
  },
  {
   "cell_type": "markdown",
   "metadata": {
    "_cell_guid": "2f352f12-a5c0-47e2-9202-2e9061393c46",
    "_uuid": "0b3fd60c08cbc29d666dc3c49edbf256285a998a"
   },
   "source": [
    "After examining how the data looks like, its quite easy to extract the titles from the url. My eventual goal is to use the text in the transcript column to create a measure of similarity. And then recommend the 4 most similar titles to a given talk. It is quite straightforward to separate the title from url using a simple string split operation as shown below"
   ]
  },
  {
   "cell_type": "code",
   "execution_count": 3,
   "metadata": {
    "_cell_guid": "e74a68f2-5cc1-4b90-b9f2-0105ed217b94",
    "_uuid": "01a63700c4c83a8e8f872257e207a6da5173a8ce",
    "jupyter": {
     "outputs_hidden": true
    }
   },
   "outputs": [
    {
     "data": {
      "text/html": [
       "<div>\n",
       "<style scoped>\n",
       "    .dataframe tbody tr th:only-of-type {\n",
       "        vertical-align: middle;\n",
       "    }\n",
       "\n",
       "    .dataframe tbody tr th {\n",
       "        vertical-align: top;\n",
       "    }\n",
       "\n",
       "    .dataframe thead th {\n",
       "        text-align: right;\n",
       "    }\n",
       "</style>\n",
       "<table border=\"1\" class=\"dataframe\">\n",
       "  <thead>\n",
       "    <tr style=\"text-align: right;\">\n",
       "      <th></th>\n",
       "      <th>transcript</th>\n",
       "      <th>url</th>\n",
       "      <th>title</th>\n",
       "    </tr>\n",
       "  </thead>\n",
       "  <tbody>\n",
       "    <tr>\n",
       "      <th>0</th>\n",
       "      <td>Good morning. How are you?(Laughter)It's been ...</td>\n",
       "      <td>https://www.ted.com/talks/ken_robinson_says_sc...</td>\n",
       "      <td>ken_robinson_says_schools_kill_creativity\\n</td>\n",
       "    </tr>\n",
       "    <tr>\n",
       "      <th>1</th>\n",
       "      <td>Thank you so much, Chris. And it's truly a gre...</td>\n",
       "      <td>https://www.ted.com/talks/al_gore_on_averting_...</td>\n",
       "      <td>al_gore_on_averting_climate_crisis\\n</td>\n",
       "    </tr>\n",
       "    <tr>\n",
       "      <th>2</th>\n",
       "      <td>(Music: \"The Sound of Silence,\" Simon &amp; Garfun...</td>\n",
       "      <td>https://www.ted.com/talks/david_pogue_says_sim...</td>\n",
       "      <td>david_pogue_says_simplicity_sells\\n</td>\n",
       "    </tr>\n",
       "    <tr>\n",
       "      <th>3</th>\n",
       "      <td>If you're here today — and I'm very happy that...</td>\n",
       "      <td>https://www.ted.com/talks/majora_carter_s_tale...</td>\n",
       "      <td>majora_carter_s_tale_of_urban_renewal\\n</td>\n",
       "    </tr>\n",
       "    <tr>\n",
       "      <th>4</th>\n",
       "      <td>About 10 years ago, I took on the task to teac...</td>\n",
       "      <td>https://www.ted.com/talks/hans_rosling_shows_t...</td>\n",
       "      <td>hans_rosling_shows_the_best_stats_you_ve_ever_...</td>\n",
       "    </tr>\n",
       "  </tbody>\n",
       "</table>\n",
       "</div>"
      ],
      "text/plain": [
       "                                          transcript  \\\n",
       "0  Good morning. How are you?(Laughter)It's been ...   \n",
       "1  Thank you so much, Chris. And it's truly a gre...   \n",
       "2  (Music: \"The Sound of Silence,\" Simon & Garfun...   \n",
       "3  If you're here today — and I'm very happy that...   \n",
       "4  About 10 years ago, I took on the task to teac...   \n",
       "\n",
       "                                                 url  \\\n",
       "0  https://www.ted.com/talks/ken_robinson_says_sc...   \n",
       "1  https://www.ted.com/talks/al_gore_on_averting_...   \n",
       "2  https://www.ted.com/talks/david_pogue_says_sim...   \n",
       "3  https://www.ted.com/talks/majora_carter_s_tale...   \n",
       "4  https://www.ted.com/talks/hans_rosling_shows_t...   \n",
       "\n",
       "                                               title  \n",
       "0        ken_robinson_says_schools_kill_creativity\\n  \n",
       "1               al_gore_on_averting_climate_crisis\\n  \n",
       "2                david_pogue_says_simplicity_sells\\n  \n",
       "3            majora_carter_s_tale_of_urban_renewal\\n  \n",
       "4  hans_rosling_shows_the_best_stats_you_ve_ever_...  "
      ]
     },
     "execution_count": 3,
     "metadata": {},
     "output_type": "execute_result"
    }
   ],
   "source": [
    "transcripts['title']=transcripts['url'].map(lambda x:x.split(\"/\")[-1])\n",
    "transcripts.head()"
   ]
  },
  {
   "cell_type": "markdown",
   "metadata": {
    "_cell_guid": "51b3faac-3c09-4c8c-bbb1-68734664dcaa",
    "_uuid": "dcafd5ab8880b33e06d1322d43e66bae8f9b3384"
   },
   "source": [
    "At this point I am ready to begin piecing together the components that will help me build a talk recommender. In order to achieve this I will have to:\n",
    "\n",
    "1. Create a vector representation of each transcript\n",
    "2. Create a similarity matrix for the vector representation created above\n",
    "3. For each talk, based on some similarity metric, select 4 most similar talks"
   ]
  },
  {
   "cell_type": "markdown",
   "metadata": {
    "_cell_guid": "609d99fe-61b1-4d49-8f57-eef06d245716",
    "_uuid": "2738beaed6962c349aa08f76bd980ef3213c9666"
   },
   "source": [
    "<h2><center>Creating word vectors using Tf-Idf</center></h2>\n",
    "Since my final goal is to recommend talks based on the similarity of their content, the first thing I will have to do is to, create a representation of the transcripts that are amenable to comparison. One way of doing this is to create a tfidf vector for each transcript. But what is this tfidf business anyway? Let's discuss that first.\n",
    "\n",
    "<h3>Corpus, Document and Count Matrix</h3>\n",
    "To represent text, we will think of each transcript as one \"Document\" and the set of all documents as a \"Corpus\". Then we will create a vector representing the count of words that occur in each document, something like this:\n",
    "\n",
    "<img src=\"https://github.com/Gunnvant/ted_talks/blob/master/count_matrix.png?raw=true\">\n",
    "\n",
    "As you can see for each document, we have created a vector for count of times each word occurs. So the vector  (1,1,1,1,0,0) , represents the count of words \"This\",\"is\",\"sentence\",\"one\",\"two\",\"three\" in document 1.This is known as a count matrix. There is one issue with such a representation of text though, it doesn't take into account the importance of words in a document. For example, the word \"one\" occurs only once in the document 1 but is missing in the other documents, so from the point of view of its importance, \"one\" is an important word for document 1 as it characterises it, but if we look at the count vector for document 1, we can see that \"one\" gets of weight of 1 so do words like \"This\", \"is\" etc. Issues, regarding the importance of words in a document can be handled using what is known as Tf-Idf.\n",
    "\n",
    "<h3>Term Frequency-Inverse Document Frequency (Tf-Idf)</h3>\n",
    "\n",
    "In order to understand how Tf-Idf helps in identifying the importance of the words, let's do a thought experiment and ask our-selves a couple of questions, what determines if a word is important?\n",
    "\n",
    "1.  If the word occurs a lot in document?\n",
    "2.  If the word occurs rarely in the corpus?\n",
    "3.  Both 1 and 2?\n",
    "\n",
    "A word is important in a document if, it occurs a lot in the document, but rarely in other documents in the corpus. Term Frequency measures how often the word appears in a given document, while Inverse document frequency measures how rare the word is in a corpus. The product of these two quantities, measures the importance of the word and is known as Tf-Idf. Creating a tf-idf representation is fairly straightforward, if you are working with a machine learning frame-work, such as scikit-learn, it's fairly straighforward to create a matrix representation of text data"
   ]
  },
  {
   "cell_type": "code",
   "execution_count": 4,
   "metadata": {
    "_cell_guid": "88ee490e-dd73-4803-bd61-f1001ff8ff6f",
    "_uuid": "d00313000ad5969323c65193d7491c67d173ed88",
    "jupyter": {
     "outputs_hidden": true
    }
   },
   "outputs": [
    {
     "name": "stdout",
     "output_type": "stream",
     "text": [
      "(2467, 58489)\n"
     ]
    }
   ],
   "source": [
    "Text=transcripts['transcript'].tolist()\n",
    "tfidf=text.TfidfVectorizer(input=Text,stop_words=\"english\")\n",
    "matrix=tfidf.fit_transform(Text)\n",
    "print(matrix.shape)"
   ]
  },
  {
   "cell_type": "code",
   "execution_count": 10,
   "metadata": {},
   "outputs": [
    {
     "data": {
      "text/plain": [
       "<2467x58489 sparse matrix of type '<class 'numpy.float64'>'\n",
       "\twith 1166796 stored elements in Compressed Sparse Row format>"
      ]
     },
     "execution_count": 10,
     "metadata": {},
     "output_type": "execute_result"
    }
   ],
   "source": [
    "matrix"
   ]
  },
  {
   "cell_type": "markdown",
   "metadata": {
    "_cell_guid": "208f8e19-bae7-40e2-a8e7-b9b21d1fc06e",
    "_uuid": "8257da5c2a05160baf230bb01f0c933c52dbd6cc"
   },
   "source": [
    "So once we sort the issue of representing word vectors by taking into account the importance of the words, we are all set to tackle the next issue, how to find out which documents (in our case Ted talk transcripts) are similar to a given document?\n",
    "<h2><center>Finding similar documents</center></h2>\n",
    "To find out similar documents among different documents, we will need to compute a measure of similarity. Usually when dealing with Tf-Idf vectors, we use  $cosine$  similarity. Think of  $cosine$  similarity as measuring how close one TF-Idf vector is from the other. Now if you remember from the previous discussion, we were able to represent each transcript as a vector, so the $cosine$  similarity will become a means for us to find out how similar the transcript of one Ted Talk is to the other.\n",
    "So essentially, I created a $cosine$ matrix from Tf-Idf vectors to represent how similar each document was to the other, schematically, something like:\n",
    "\n",
    "<img src=\"https://github.com/Gunnvant/ted_talks/blob/master/cosine.png?raw=true\">\n",
    "\n",
    "Again, using sklearn, doing this was very straighforward"
   ]
  },
  {
   "cell_type": "code",
   "execution_count": 6,
   "metadata": {
    "_cell_guid": "b441dc53-1340-40a0-a0ba-0aa172f4a2b3",
    "_uuid": "1dd46ba2e2547dd85919de8096e4b5ae6ff1f1c1",
    "jupyter": {
     "outputs_hidden": true
    }
   },
   "outputs": [],
   "source": [
    "### Get Similarity Scores using cosine similarity\n",
    "from sklearn.metrics.pairwise import cosine_similarity\n",
    "sim_unigram=cosine_similarity(matrix)"
   ]
  },
  {
   "cell_type": "markdown",
   "metadata": {
    "_cell_guid": "64a80dc2-00c7-4e64-acef-ad07c47bb122",
    "_uuid": "cba76718d3dc391a60233fa70e6e7843f24d1539"
   },
   "source": [
    "All I had to do now was for, each Transcript, find out the 4 most similar ones, based on cosine similarity. Algorithmically, this would amount to finding out, for each row in the cosine matrix constructed above, the index of five columns, that are most similar to the document (transcript in our case) corresponding to the respective row number. This was accomplished using a few lines of code"
   ]
  },
  {
   "cell_type": "code",
   "execution_count": 7,
   "metadata": {
    "_cell_guid": "5e82ffd3-a1a2-4dbf-9777-d281a449868f",
    "_uuid": "fb5b1f0a0bd81b72735e2ac47e7d59977b6ca600",
    "jupyter": {
     "outputs_hidden": true
    }
   },
   "outputs": [],
   "source": [
    "def get_similar_articles(x):\n",
    "    return \",\".join(transcripts['title'].loc[x.argsort()[-5:-1]])\n",
    "transcripts['similar_articles_unigram']=[get_similar_articles(x) for x in sim_unigram]"
   ]
  },
  {
   "cell_type": "markdown",
   "metadata": {
    "_cell_guid": "b974cd8b-385b-4ab6-9934-88bc8df0f600",
    "_uuid": "f838de6fe38f50d0415e1dfcc07b49ce64a3861a"
   },
   "source": [
    "Let's check how we faired, by examining the recommendations. Let's pickup, any Ted Talk Title from, the list, let's say we pick up:"
   ]
  },
  {
   "cell_type": "code",
   "execution_count": 8,
   "metadata": {
    "_cell_guid": "cdf5aa23-5a29-45a5-b37a-ba0a860b5183",
    "_uuid": "df8d071cb21eda5ada611fdbeccf1635d2726447",
    "jupyter": {
     "outputs_hidden": true
    }
   },
   "outputs": [
    {
     "data": {
      "text/plain": [
       "'KEN ROBINSON SAYS SCHOOLS KILL CREATIVITY'"
      ]
     },
     "execution_count": 8,
     "metadata": {},
     "output_type": "execute_result"
    }
   ],
   "source": [
    "transcripts['title'].str.replace(\"_\",\" \").str.upper().str.strip()[0]"
   ]
  },
  {
   "cell_type": "markdown",
   "metadata": {
    "_cell_guid": "103c028d-63ef-4908-b18e-d096eb375da2",
    "_uuid": "f5b4107b0b55ce4790645ec09e2687d1261ddc92"
   },
   "source": [
    "Then, based on our analysis, the four most similar titles are"
   ]
  },
  {
   "cell_type": "code",
   "execution_count": 9,
   "metadata": {
    "_cell_guid": "46e66743-9d38-4606-8376-9cdce32e50fa",
    "_uuid": "c997124b889694b8da83b62f1a2d6aa129b70cb6",
    "jupyter": {
     "outputs_hidden": true
    }
   },
   "outputs": [
    {
     "data": {
      "text/plain": [
       "['RORY BREMNER S ONE MAN WORLD SUMMIT',\n",
       " ',SAKENA YACOOBI HOW I STOPPED THE TALIBAN FROM SHUTTING DOWN MY SCHOOL',\n",
       " ',SIR KEN ROBINSON BRING ON THE REVOLUTION',\n",
       " ',KEN ROBINSON HOW TO ESCAPE EDUCATION S DEATH VALLEY']"
      ]
     },
     "execution_count": 9,
     "metadata": {},
     "output_type": "execute_result"
    }
   ],
   "source": [
    "transcripts['similar_articles_unigram'].str.replace(\"_\",\" \").str.upper().str.strip().str.split(\"\\n\")[0]"
   ]
  },
  {
   "cell_type": "markdown",
   "metadata": {
    "_cell_guid": "3dae656a-26d6-4995-87d6-476129210a66",
    "_uuid": "7a660f4407a1b3de8989653dc7dba18eb017e475"
   },
   "source": [
    "# THE END\n"
   ]
  }
 ],
 "metadata": {
  "kernelspec": {
   "display_name": "Python 3",
   "language": "python",
   "name": "python3"
  },
  "language_info": {
   "codemirror_mode": {
    "name": "ipython",
    "version": 3
   },
   "file_extension": ".py",
   "mimetype": "text/x-python",
   "name": "python",
   "nbconvert_exporter": "python",
   "pygments_lexer": "ipython3",
   "version": "3.8.5"
  }
 },
 "nbformat": 4,
 "nbformat_minor": 4
}
